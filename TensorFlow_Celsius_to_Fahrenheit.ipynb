{
  "nbformat": 4,
  "nbformat_minor": 0,
  "metadata": {
    "colab": {
      "name": "TensorFlow: Celsius to Fahrenheit.ipynb",
      "version": "0.3.2",
      "provenance": [],
      "include_colab_link": true
    },
    "kernelspec": {
      "name": "python3",
      "display_name": "Python 3"
    }
  },
  "cells": [
    {
      "cell_type": "markdown",
      "metadata": {
        "id": "view-in-github",
        "colab_type": "text"
      },
      "source": [
        "<a href=\"https://colab.research.google.com/github/dinurymomshad/Tensorflow--Celsius_to_Fahrenheit/blob/master/TensorFlow_Celsius_to_Fahrenheit.ipynb\" target=\"_parent\"><img src=\"https://colab.research.google.com/assets/colab-badge.svg\" alt=\"Open In Colab\"/></a>"
      ]
    },
    {
      "metadata": {
        "id": "iBECxRZD83Qx",
        "colab_type": "code",
        "colab": {
          "base_uri": "https://localhost:8080/",
          "height": 769
        },
        "outputId": "3a7cc1ff-c463-4243-e125-b5fa39e76f2a"
      },
      "cell_type": "code",
      "source": [
        "#Importing Dependencies: \n",
        "from __future__ import absolute_import, division, print_function\n",
        "import tensorflow as tf\n",
        "tf.logging.set_verbosity(tf.logging.ERROR)\n",
        "\n",
        "import numpy as np\n",
        "import matplotlib.pyplot as plt\n",
        "\n",
        "#Set up training data:\n",
        "celsius_q    = np.array([-40, -10,  0,  8, 15, 22,  38],  dtype=float)\n",
        "fahrenheit_a = np.array([-40,  14, 32, 46, 59, 72, 100],  dtype=float)\n",
        "\n",
        "for i,c in enumerate(celsius_q):\n",
        "  print(\"{} degrees Celsius = {} degrees Fahrenhet\".format(c, fahrenheit_a[i]))\n",
        "\n",
        "#Create the Model:\n",
        "#Build a layer:\n",
        "l0 = tf.keras.layers.Dense(units=1, input_shape=[1]) \n",
        "#Assemble Layers into Model:\n",
        "model = tf.keras.Sequential([l0])\n",
        "#Loss and Optimizer Function:\n",
        "model.compile(loss='mean_squared_error',optimizer=tf.keras.optimizers.Adam(0.1))\n",
        "#Train the model:\n",
        "history = model.fit(celsius_q, fahrenheit_a, epochs=500, verbose=False)\n",
        "print(\"Finished training the model\")\n",
        "#Display Statistics:\n",
        "plt.xlabel('Epoch Number')\n",
        "plt.ylabel(\"Loss Magnitude\")\n",
        "plt.plot(history.history['loss'])\n",
        "\n",
        "#Predict Value:\n",
        "print(model.predict([100.0])) #Change value here to check the output\n",
        "\n",
        "#Layer Weight:\n",
        "print(\"These are the layer variables: {}\".format(l0.get_weights()))\n",
        "\n",
        "#Tweaking Dense Layer and adding different units: (Experimental)\n",
        "l0 = tf.keras.layers.Dense(units=4, input_shape=[1])  \n",
        "l1 = tf.keras.layers.Dense(units=4)  \n",
        "l2 = tf.keras.layers.Dense(units=1)  \n",
        "model = tf.keras.Sequential([l0, l1, l2])\n",
        "model.compile(loss='mean_squared_error', optimizer=tf.keras.optimizers.Adam(0.1))\n",
        "model.fit(celsius_q, fahrenheit_a, epochs=500, verbose=False)\n",
        "print(\"Finished training the model\")\n",
        "print(model.predict([100.0]))\n",
        "print(\"Model predicts that 100 degrees Celsius is: {} degrees Fahrenheit\".format(model.predict([100.0])))\n",
        "print(\"These are the l0 variables: {}\".format(l0.get_weights()))\n",
        "print(\"These are the l1 variables: {}\".format(l1.get_weights()))\n",
        "print(\"These are the l2 variables: {}\".format(l2.get_weights()))"
      ],
      "execution_count": 3,
      "outputs": [
        {
          "output_type": "stream",
          "text": [
            "-40.0 degrees Celsius = -40.0 degrees Fahrenhet\n",
            "-10.0 degrees Celsius = 14.0 degrees Fahrenhet\n",
            "0.0 degrees Celsius = 32.0 degrees Fahrenhet\n",
            "8.0 degrees Celsius = 46.0 degrees Fahrenhet\n",
            "15.0 degrees Celsius = 59.0 degrees Fahrenhet\n",
            "22.0 degrees Celsius = 72.0 degrees Fahrenhet\n",
            "38.0 degrees Celsius = 100.0 degrees Fahrenhet\n",
            "Finished training the model\n",
            "[[211.32553]]\n",
            "These are the layer variables: [array([[1.822312]], dtype=float32), array([29.094334], dtype=float32)]\n",
            "Finished training the model\n",
            "[[211.74742]]\n",
            "Model predicts that 100 degrees Celsius is: [[211.74742]] degrees Fahrenheit\n",
            "These are the l0 variables: [array([[-0.19105884,  0.22161546,  0.19069137,  0.8835189 ]],\n",
            "      dtype=float32), array([-3.663572 , -2.5627718, -2.2404008,  3.5782006], dtype=float32)]\n",
            "These are the l1 variables: [array([[-0.4509262 ,  0.5091388 , -0.03996487, -0.3959992 ],\n",
            "       [-0.20496002,  0.09468944,  0.06459214, -0.762429  ],\n",
            "       [-0.6432339 ,  0.80236804, -0.11478823, -0.23630206],\n",
            "       [ 0.51440525, -0.1424724 ,  0.71203923,  0.97090834]],\n",
            "      dtype=float32), array([ 3.2518625 , -0.44494238,  3.2353683 ,  3.6184072 ], dtype=float32)]\n",
            "These are the l2 variables: [array([[ 1.1111395 ],\n",
            "       [-0.16805246],\n",
            "       [ 0.8796713 ],\n",
            "       [ 1.1429137 ]], dtype=float32), array([3.5575476], dtype=float32)]\n"
          ],
          "name": "stdout"
        },
        {
          "output_type": "display_data",
          "data": {
            "image/png": "[encoded data removed]",
            "text/plain": [
              "<Figure size 576x396 with 1 Axes>"
            ]
          },
          "metadata": {
            "tags": []
          }
        }
      ]
    },
    {
      "metadata": {
        "id": "9xA6u4nm9WIe",
        "colab_type": "code",
        "colab": {}
      },
      "cell_type": "code",
      "source": [
        ""
      ],
      "execution_count": 0,
      "outputs": []
    }
  ]
}